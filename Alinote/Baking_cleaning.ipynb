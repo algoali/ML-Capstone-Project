{
 "cells": [
  {
   "cell_type": "code",
   "execution_count": 2,
   "id": "03346436",
   "metadata": {},
   "outputs": [],
   "source": [
    "# Loading packages\n",
    "import pandas as pd\n",
    "import os"
   ]
  },
  {
   "cell_type": "code",
   "execution_count": 3,
   "id": "28bec946",
   "metadata": {},
   "outputs": [],
   "source": [
    "# Loading Keywords\n",
    "keywords_path = 'keywords.pk'\n",
    "keywords_df = pd.read_pickle(keywords_path)"
   ]
  },
  {
   "cell_type": "markdown",
   "id": "92d158aa",
   "metadata": {},
   "source": [
    "## Creating the `baking` Column"
   ]
  },
  {
   "cell_type": "code",
   "execution_count": 4,
   "id": "83efc504",
   "metadata": {},
   "outputs": [
    {
     "data": {
      "text/html": [
       "<div>\n",
       "<style scoped>\n",
       "    .dataframe tbody tr th:only-of-type {\n",
       "        vertical-align: middle;\n",
       "    }\n",
       "\n",
       "    .dataframe tbody tr th {\n",
       "        vertical-align: top;\n",
       "    }\n",
       "\n",
       "    .dataframe thead th {\n",
       "        text-align: right;\n",
       "    }\n",
       "</style>\n",
       "<table border=\"1\" class=\"dataframe\">\n",
       "  <thead>\n",
       "    <tr style=\"text-align: right;\">\n",
       "      <th></th>\n",
       "      <th>Name</th>\n",
       "      <th>KeywordsTitle</th>\n",
       "      <th>Keywords</th>\n",
       "      <th>baking</th>\n",
       "    </tr>\n",
       "    <tr>\n",
       "      <th>RecipeId</th>\n",
       "      <th></th>\n",
       "      <th></th>\n",
       "      <th></th>\n",
       "      <th></th>\n",
       "    </tr>\n",
       "  </thead>\n",
       "  <tbody>\n",
       "    <tr>\n",
       "      <th>38</th>\n",
       "      <td>low-fat berry blue frozen dessert</td>\n",
       "      <td>[dessert]</td>\n",
       "      <td>[frozen desserts, healthy, freezer, dessert, s...</td>\n",
       "      <td>False</td>\n",
       "    </tr>\n",
       "    <tr>\n",
       "      <th>40</th>\n",
       "      <td>best lemonade</td>\n",
       "      <td>[lemon]</td>\n",
       "      <td>[healthy, summer, lemon, beverages]</td>\n",
       "      <td>False</td>\n",
       "    </tr>\n",
       "    <tr>\n",
       "      <th>42</th>\n",
       "      <td>cabbage soup</td>\n",
       "      <td>[cabbage, soup]</td>\n",
       "      <td>[healthy, vegetable, winter, vegan, cabbage, e...</td>\n",
       "      <td>False</td>\n",
       "    </tr>\n",
       "    <tr>\n",
       "      <th>44</th>\n",
       "      <td>warm chicken a la king</td>\n",
       "      <td>[chicken]</td>\n",
       "      <td>[noodle, pie, potato, rice, chicken, meat, pou...</td>\n",
       "      <td>True</td>\n",
       "    </tr>\n",
       "    <tr>\n",
       "      <th>45</th>\n",
       "      <td>buttermilk pie with gingersnap crumb crust</td>\n",
       "      <td>[pie]</td>\n",
       "      <td>[pie, healthy, dessert, weeknight, oven]</td>\n",
       "      <td>True</td>\n",
       "    </tr>\n",
       "  </tbody>\n",
       "</table>\n",
       "</div>"
      ],
      "text/plain": [
       "                                                Name    KeywordsTitle  \\\n",
       "RecipeId                                                                \n",
       "38                 low-fat berry blue frozen dessert        [dessert]   \n",
       "40                                     best lemonade          [lemon]   \n",
       "42                                      cabbage soup  [cabbage, soup]   \n",
       "44                            warm chicken a la king        [chicken]   \n",
       "45        buttermilk pie with gingersnap crumb crust            [pie]   \n",
       "\n",
       "                                                   Keywords  baking  \n",
       "RecipeId                                                             \n",
       "38        [frozen desserts, healthy, freezer, dessert, s...   False  \n",
       "40                      [healthy, summer, lemon, beverages]   False  \n",
       "42        [healthy, vegetable, winter, vegan, cabbage, e...   False  \n",
       "44        [noodle, pie, potato, rice, chicken, meat, pou...    True  \n",
       "45                 [pie, healthy, dessert, weeknight, oven]    True  "
      ]
     },
     "execution_count": 4,
     "metadata": {},
     "output_type": "execute_result"
    }
   ],
   "source": [
    "# Cooking related keywords\n",
    "baking_keywords = ['breads', 'cookie & brownie', 'pie', 'bar cookie', 'drop cookies', 'yeast breads', 'cheesecake']\n",
    "\n",
    "# Create the `baking` column\n",
    "def is_baking(row):\n",
    "    for keyword in row['Keywords']:\n",
    "        if any(baking_keyword in keyword.lower() for baking_keyword in baking_keywords):\n",
    "            return True\n",
    "    return False\n",
    "\n",
    "keywords_df['baking'] = keywords_df.apply(is_baking, axis=1)\n",
    "keywords_df.head()"
   ]
  },
  {
   "cell_type": "markdown",
   "id": "e176a49f",
   "metadata": {},
   "source": [
    "## Saving Cleaned Data"
   ]
  },
  {
   "cell_type": "code",
   "execution_count": 5,
   "id": "0c18e43e",
   "metadata": {},
   "outputs": [],
   "source": [
    "# Save DataFrame containing the cleared `baking` column\n",
    "cleaned_columns_path = 'algoali/foodrecs/data/clean_columns'\n",
    "if not os.path.exists(cleaned_columns_path):\n",
    "    os.makedirs(cleaned_columns_path)\n",
    "    \n",
    "keywords_df[['baking']].to_parquet(os.path.join(cleaned_columns_path, 'baking.parquet'))\n"
   ]
  },
  {
   "cell_type": "code",
   "execution_count": 9,
   "id": "65e8c7e1-fe5d-4a9e-b514-b556cc65ade0",
   "metadata": {},
   "outputs": [
    {
     "data": {
      "text/html": [
       "<div>\n",
       "<style scoped>\n",
       "    .dataframe tbody tr th:only-of-type {\n",
       "        vertical-align: middle;\n",
       "    }\n",
       "\n",
       "    .dataframe tbody tr th {\n",
       "        vertical-align: top;\n",
       "    }\n",
       "\n",
       "    .dataframe thead th {\n",
       "        text-align: right;\n",
       "    }\n",
       "</style>\n",
       "<table border=\"1\" class=\"dataframe\">\n",
       "  <thead>\n",
       "    <tr style=\"text-align: right;\">\n",
       "      <th></th>\n",
       "      <th>baking</th>\n",
       "    </tr>\n",
       "    <tr>\n",
       "      <th>RecipeId</th>\n",
       "      <th></th>\n",
       "    </tr>\n",
       "  </thead>\n",
       "  <tbody>\n",
       "    <tr>\n",
       "      <th>38</th>\n",
       "      <td>False</td>\n",
       "    </tr>\n",
       "    <tr>\n",
       "      <th>40</th>\n",
       "      <td>False</td>\n",
       "    </tr>\n",
       "    <tr>\n",
       "      <th>42</th>\n",
       "      <td>False</td>\n",
       "    </tr>\n",
       "    <tr>\n",
       "      <th>44</th>\n",
       "      <td>True</td>\n",
       "    </tr>\n",
       "    <tr>\n",
       "      <th>45</th>\n",
       "      <td>True</td>\n",
       "    </tr>\n",
       "    <tr>\n",
       "      <th>...</th>\n",
       "      <td>...</td>\n",
       "    </tr>\n",
       "    <tr>\n",
       "      <th>539182</th>\n",
       "      <td>False</td>\n",
       "    </tr>\n",
       "    <tr>\n",
       "      <th>539184</th>\n",
       "      <td>False</td>\n",
       "    </tr>\n",
       "    <tr>\n",
       "      <th>539304</th>\n",
       "      <td>False</td>\n",
       "    </tr>\n",
       "    <tr>\n",
       "      <th>540263</th>\n",
       "      <td>False</td>\n",
       "    </tr>\n",
       "    <tr>\n",
       "      <th>540370</th>\n",
       "      <td>False</td>\n",
       "    </tr>\n",
       "  </tbody>\n",
       "</table>\n",
       "<p>114744 rows × 1 columns</p>\n",
       "</div>"
      ],
      "text/plain": [
       "          baking\n",
       "RecipeId        \n",
       "38         False\n",
       "40         False\n",
       "42         False\n",
       "44          True\n",
       "45          True\n",
       "...          ...\n",
       "539182     False\n",
       "539184     False\n",
       "539304     False\n",
       "540263     False\n",
       "540370     False\n",
       "\n",
       "[114744 rows x 1 columns]"
      ]
     },
     "execution_count": 9,
     "metadata": {},
     "output_type": "execute_result"
    }
   ],
   "source": [
    "barking_cleaned = pd.read_parquet('baking.parquet', engine = 'pyarrow')\n",
    "barking_cleaned"
   ]
  },
  {
   "cell_type": "code",
   "execution_count": null,
   "id": "7bb46cb9-9aeb-48a2-873c-d72f864b10f6",
   "metadata": {},
   "outputs": [],
   "source": []
  }
 ],
 "metadata": {
  "kernelspec": {
   "display_name": "Python 3 (ipykernel)",
   "language": "python",
   "name": "python3"
  },
  "language_info": {
   "codemirror_mode": {
    "name": "ipython",
    "version": 3
   },
   "file_extension": ".py",
   "mimetype": "text/x-python",
   "name": "python",
   "nbconvert_exporter": "python",
   "pygments_lexer": "ipython3",
   "version": "3.12.2"
  }
 },
 "nbformat": 4,
 "nbformat_minor": 5
}
